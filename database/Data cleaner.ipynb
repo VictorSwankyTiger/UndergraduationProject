{
 "cells": [
  {
   "cell_type": "markdown",
   "id": "92e3b9d1-c005-416b-b637-19c37fee3e57",
   "metadata": {},
   "source": [
    "This notebook deal with trivial data and thouse unuseable data."
   ]
  },
  {
   "cell_type": "markdown",
   "id": "ac57325e-45b6-47da-97a5-c9c90ddcc9c3",
   "metadata": {},
   "source": [
    "This part is deal with \"Terminate\" column purn out all termination not normal or Time forefit"
   ]
  },
  {
   "cell_type": "code",
   "execution_count": null,
   "id": "fe5a4d9c-0e18-4951-887f-639e1fb7db0a",
   "metadata": {},
   "outputs": [],
   "source": []
  },
  {
   "cell_type": "markdown",
   "id": "664cab99-ecc1-411e-9782-6b9acd4d8250",
   "metadata": {},
   "source": [
    "This part deal with data with no move record."
   ]
  },
  {
   "cell_type": "code",
   "execution_count": null,
   "id": "9413b8f3-7760-4f6d-aad7-d034ecd19747",
   "metadata": {},
   "outputs": [],
   "source": []
  }
 ],
 "metadata": {
  "kernelspec": {
   "display_name": "Python 3 (ipykernel)",
   "language": "python",
   "name": "python3"
  },
  "language_info": {
   "codemirror_mode": {
    "name": "ipython",
    "version": 3
   },
   "file_extension": ".py",
   "mimetype": "text/x-python",
   "name": "python",
   "nbconvert_exporter": "python",
   "pygments_lexer": "ipython3",
   "version": "3.12.7"
  }
 },
 "nbformat": 4,
 "nbformat_minor": 5
}
