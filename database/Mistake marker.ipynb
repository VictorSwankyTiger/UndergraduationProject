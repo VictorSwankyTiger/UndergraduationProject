{
 "cells": [
  {
   "cell_type": "markdown",
   "id": "5065b0ba-9cb3-4f3c-aefb-bd18ec782642",
   "metadata": {},
   "source": [
    "This notebook is to mark all the mistake been make by player"
   ]
  },
  {
   "cell_type": "code",
   "execution_count": 4,
   "id": "570b3057-8caf-40f0-b0c8-06943cc92b30",
   "metadata": {},
   "outputs": [],
   "source": [
    "#PACKAGE\n",
    "import os\n",
    "import pandas as pd"
   ]
  },
  {
   "cell_type": "code",
   "execution_count": 6,
   "id": "cc6f7449-3075-46d0-8e66-611568a7ac07",
   "metadata": {},
   "outputs": [
    {
     "data": {
      "text/html": [
       "<div>\n",
       "<style scoped>\n",
       "    .dataframe tbody tr th:only-of-type {\n",
       "        vertical-align: middle;\n",
       "    }\n",
       "\n",
       "    .dataframe tbody tr th {\n",
       "        vertical-align: top;\n",
       "    }\n",
       "\n",
       "    .dataframe thead th {\n",
       "        text-align: right;\n",
       "    }\n",
       "</style>\n",
       "<table border=\"1\" class=\"dataframe\">\n",
       "  <thead>\n",
       "    <tr style=\"text-align: right;\">\n",
       "      <th></th>\n",
       "      <th>Event</th>\n",
       "      <th>Site</th>\n",
       "      <th>Date</th>\n",
       "      <th>Round</th>\n",
       "      <th>White</th>\n",
       "      <th>Black</th>\n",
       "      <th>Result</th>\n",
       "      <th>UTCDate</th>\n",
       "      <th>UTCTime</th>\n",
       "      <th>WhiteElo</th>\n",
       "      <th>BlackElo</th>\n",
       "      <th>WhiteRatingDiff</th>\n",
       "      <th>BlackRatingDiff</th>\n",
       "      <th>ECO</th>\n",
       "      <th>Opening</th>\n",
       "      <th>TimeControl</th>\n",
       "      <th>Termination</th>\n",
       "      <th>MovesProcessed</th>\n",
       "      <th>Clock</th>\n",
       "    </tr>\n",
       "  </thead>\n",
       "  <tbody>\n",
       "    <tr>\n",
       "      <th>0</th>\n",
       "      <td>Rated Blitz tournament https://lichess.org/tou...</td>\n",
       "      <td>https://lichess.org/wTFwL1r4</td>\n",
       "      <td>2024.08.01</td>\n",
       "      <td>-</td>\n",
       "      <td>BlinkyGaladrigal</td>\n",
       "      <td>Denisov27</td>\n",
       "      <td>1/2-1/2</td>\n",
       "      <td>2024.08.01</td>\n",
       "      <td>00:00:10</td>\n",
       "      <td>1967</td>\n",
       "      <td>2015</td>\n",
       "      <td>NaN</td>\n",
       "      <td>NaN</td>\n",
       "      <td>A10</td>\n",
       "      <td>English Opening: Anglo-Scandinavian Defense</td>\n",
       "      <td>180+2</td>\n",
       "      <td>Normal</td>\n",
       "      <td>1. c4 1... d5 2. cxd5 2... Qxd5 3. Nc3 3... Qd...</td>\n",
       "      <td>1. 0:03:00 1... 0:03:00 2. 0:03:00 2... 0:03:0...</td>\n",
       "    </tr>\n",
       "  </tbody>\n",
       "</table>\n",
       "</div>"
      ],
      "text/plain": [
       "                                               Event  \\\n",
       "0  Rated Blitz tournament https://lichess.org/tou...   \n",
       "\n",
       "                           Site        Date Round             White  \\\n",
       "0  https://lichess.org/wTFwL1r4  2024.08.01     -  BlinkyGaladrigal   \n",
       "\n",
       "       Black   Result     UTCDate   UTCTime  WhiteElo  BlackElo  \\\n",
       "0  Denisov27  1/2-1/2  2024.08.01  00:00:10      1967      2015   \n",
       "\n",
       "   WhiteRatingDiff  BlackRatingDiff  ECO  \\\n",
       "0              NaN              NaN  A10   \n",
       "\n",
       "                                       Opening TimeControl Termination  \\\n",
       "0  English Opening: Anglo-Scandinavian Defense       180+2      Normal   \n",
       "\n",
       "                                      MovesProcessed  \\\n",
       "0  1. c4 1... d5 2. cxd5 2... Qxd5 3. Nc3 3... Qd...   \n",
       "\n",
       "                                               Clock  \n",
       "0  1. 0:03:00 1... 0:03:00 2. 0:03:00 2... 0:03:0...  "
      ]
     },
     "execution_count": 6,
     "metadata": {},
     "output_type": "execute_result"
    }
   ],
   "source": [
    "df = pd.read_csv('Filter_CSV/180+2/chunk_1.csv')\n",
    "df.head(1)"
   ]
  },
  {
   "cell_type": "code",
   "execution_count": null,
   "id": "be5b161b-836a-4515-8f8f-63016e564b4d",
   "metadata": {},
   "outputs": [],
   "source": []
  }
 ],
 "metadata": {
  "kernelspec": {
   "display_name": "Python 3 (ipykernel)",
   "language": "python",
   "name": "python3"
  },
  "language_info": {
   "codemirror_mode": {
    "name": "ipython",
    "version": 3
   },
   "file_extension": ".py",
   "mimetype": "text/x-python",
   "name": "python",
   "nbconvert_exporter": "python",
   "pygments_lexer": "ipython3",
   "version": "3.12.7"
  }
 },
 "nbformat": 4,
 "nbformat_minor": 5
}
