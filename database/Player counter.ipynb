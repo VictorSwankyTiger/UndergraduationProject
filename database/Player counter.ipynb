{
 "cells": [
  {
   "cell_type": "markdown",
   "id": "0fa3068f-689e-48bb-95ff-f0bf5f04b86a",
   "metadata": {},
   "source": [
    "This notebook minning information of player."
   ]
  },
  {
   "cell_type": "code",
   "execution_count": 2,
   "id": "39647d3b-128e-4d3b-bc64-3b08e82dc8a8",
   "metadata": {},
   "outputs": [],
   "source": [
    "#PACKAGE\n",
    "import os\n",
    "import pandas as pd\n",
    "import re\n",
    "import matplotlib.pyplot as plt"
   ]
  },
  {
   "cell_type": "code",
   "execution_count": 4,
   "id": "a23425f1-5684-4c71-ac64-7ae73c114762",
   "metadata": {},
   "outputs": [
    {
     "name": "stdout",
     "output_type": "stream",
     "text": [
      "2007gabor: 12 games\n",
      "A-AE: 19 games\n",
      "A-Dela: 4 games\n",
      "A-K-11: 3 games\n",
      "A-M-S-007: 3 games\n",
      "A-Mesaad: 1 games\n",
      "A-abdo_abbas-2006: 18 games\n",
      "A-j-pehecki-lybly51: 19 games\n",
      "A-lexo: 3 games\n",
      "A011528717: 4 games\n"
     ]
    }
   ],
   "source": [
    "import pandas as pd\n",
    "\n",
    "# 字典格式：{ player_name: set of game sites }\n",
    "player_games = {}\n",
    "\n",
    "for i in range(1, 301):\n",
    "    filename = f'Filter_CSV/180+2/chunk_{i}.csv'\n",
    "    db = pd.read_csv(filename)\n",
    "\n",
    "    for idx, row in db.iterrows():\n",
    "        white_player = row['White']\n",
    "        black_player = row['Black']\n",
    "        site = row['Site']\n",
    "\n",
    "        # 儲存白方對局\n",
    "        if white_player not in player_games:\n",
    "            player_games[white_player] = set()\n",
    "        player_games[white_player].add(site)\n",
    "\n",
    "        # 儲存黑方對局\n",
    "        if black_player not in player_games:\n",
    "            player_games[black_player] = set()\n",
    "        player_games[black_player].add(site)\n",
    "\n",
    "# 將玩家名字字母排序\n",
    "sorted_players = sorted(player_games.keys())\n",
    "\n",
    "# 建立一個排序後的清單，包含玩家名字與對局列表\n",
    "sorted_player_data = [(player, player_games[player]) for player in sorted_players]\n",
    "\n",
    "# 印出前幾個玩家看看結果（可選）\n",
    "for player, games in sorted_player_data[:10]:\n",
    "    print(f\"{player}: {len(games)} games\")\n"
   ]
  },
  {
   "cell_type": "code",
   "execution_count": 6,
   "id": "ffe4057a-4195-47a4-9974-2f71aa00e406",
   "metadata": {},
   "outputs": [
    {
     "name": "stdout",
     "output_type": "stream",
     "text": [
      "babyfork: 202 games\n",
      "shalapayuliy: 165 games\n",
      "KAInov: 152 games\n",
      "CactusCream: 142 games\n",
      "jmanette411: 141 games\n",
      "MehdiTayebi1352: 134 games\n",
      "Anonimous1820: 132 games\n",
      "EN2MA: 130 games\n",
      "Francesco0903: 124 games\n",
      "abja40: 123 games\n"
     ]
    }
   ],
   "source": [
    "import pandas as pd\n",
    "\n",
    "# 字典格式：{ player_name: set of game sites }\n",
    "player_games = {}\n",
    "\n",
    "for i in range(1, 301):\n",
    "    filename = f'Filter_CSV/180+2/chunk_{i}.csv'\n",
    "    db = pd.read_csv(filename)\n",
    "\n",
    "    for idx, row in db.iterrows():\n",
    "        white_player = row['White']\n",
    "        black_player = row['Black']\n",
    "        site = row['Site']\n",
    "\n",
    "        # 白方\n",
    "        if white_player not in player_games:\n",
    "            player_games[white_player] = set()\n",
    "        player_games[white_player].add(site)\n",
    "\n",
    "        # 黑方\n",
    "        if black_player not in player_games:\n",
    "            player_games[black_player] = set()\n",
    "        player_games[black_player].add(site)\n",
    "\n",
    "# 根據對局數排序（由多到少）\n",
    "sorted_player_data = sorted(player_games.items(), key=lambda item: len(item[1]), reverse=True)\n",
    "\n",
    "# 印出前幾名看看\n",
    "for player, games in sorted_player_data[:10]:\n",
    "    print(f\"{player}: {len(games)} games\")\n"
   ]
  },
  {
   "cell_type": "code",
   "execution_count": 8,
   "id": "b2ad383a-8c4e-465a-a418-fe2671b724ab",
   "metadata": {},
   "outputs": [
    {
     "name": "stdout",
     "output_type": "stream",
     "text": [
      "\n",
      "Sample player: BlinkyGaladrigal\n",
      "  Site: https://lichess.org/wTFwL1r4, Result: draw, Color: white, ECO: A10, Elo: 1967\n",
      "  Site: https://lichess.org/H7fRm0sa, Result: draw, Color: black, ECO: C55, Elo: 1968\n",
      "  Site: https://lichess.org/oSZGiYlu, Result: win, Color: white, ECO: A10, Elo: 1965\n",
      "  Site: https://lichess.org/T1ii3RjQ, Result: loss, Color: black, ECO: D32, Elo: 1975\n",
      "  Site: https://lichess.org/YGWOMP7U, Result: loss, Color: white, ECO: A27, Elo: 1963\n"
     ]
    }
   ],
   "source": [
    "import pandas as pd\n",
    "\n",
    "player_data = {}\n",
    "\n",
    "def get_result_tag(result, is_white):\n",
    "    if result == '1-0':\n",
    "        return 'win' if is_white else 'loss'\n",
    "    elif result == '0-1':\n",
    "        return 'loss' if is_white else 'win'\n",
    "    elif result == '1/2-1/2':\n",
    "        return 'draw'\n",
    "    return 'unknown'\n",
    "\n",
    "def update_player(player, elo, site, eco, result, is_white):\n",
    "    if player not in player_data:\n",
    "        player_data[player] = {\n",
    "            \"games\": {},\n",
    "            \"elos\": [],\n",
    "        }\n",
    "    \n",
    "    color = \"white\" if is_white else \"black\"\n",
    "    result_tag = get_result_tag(result, is_white)\n",
    "    \n",
    "    # 記錄這場對局\n",
    "    player_data[player][\"games\"][site] = {\n",
    "        \"elo\": int(elo) if pd.notna(elo) else None,\n",
    "        \"eco\": eco if pd.notna(eco) else None,\n",
    "        \"result\": result_tag,\n",
    "        \"color\": color\n",
    "    }\n",
    "\n",
    "    if pd.notna(elo):\n",
    "        player_data[player][\"elos\"].append(int(elo))\n",
    "\n",
    "# 處理所有 chunk\n",
    "for i in range(1, 301):\n",
    "    filename = f'Filter_CSV/180+2/chunk_{i}.csv'\n",
    "    db = pd.read_csv(filename)\n",
    "\n",
    "    for _, row in db.iterrows():\n",
    "        site = row['Site']\n",
    "        result = row['Result']\n",
    "        eco = row['ECO']\n",
    "        white_player = row['White']\n",
    "        black_player = row['Black']\n",
    "        white_elo = row['WhiteElo']\n",
    "        black_elo = row['BlackElo']\n",
    "\n",
    "        update_player(white_player, white_elo, site, eco, result, is_white=True)\n",
    "        update_player(black_player, black_elo, site, eco, result, is_white=False)\n",
    "\n",
    "# 顯示其中一位玩家的對局細節\n",
    "sample_player = list(player_data.keys())[0]\n",
    "print(f\"\\nSample player: {sample_player}\")\n",
    "for site, info in list(player_data[sample_player][\"games\"].items())[:5]:\n",
    "    print(f\"  Site: {site}, Result: {info['result']}, Color: {info['color']}, ECO: {info['eco']}, Elo: {info['elo']}\")\n"
   ]
  },
  {
   "cell_type": "code",
   "execution_count": 14,
   "id": "49bd8b87-ce49-4f37-90fa-63fb8722b52e",
   "metadata": {},
   "outputs": [
    {
     "name": "stdout",
     "output_type": "stream",
     "text": [
      "✅ 玩家資料已儲存為 JSON：Players_mining/players_data.json\n"
     ]
    }
   ],
   "source": [
    "import json\n",
    "import os\n",
    "\n",
    "# 確保資料夾存在\n",
    "output_folder = \"Players_mining\"\n",
    "os.makedirs(output_folder, exist_ok=True)\n",
    "\n",
    "# 輸出為 JSON 格式（包含所有對局細節）\n",
    "with open(os.path.join(output_folder, \"players_data.json\"), \"w\", encoding='utf-8') as f:\n",
    "    json.dump(player_data, f, indent=2, ensure_ascii=False)\n",
    "\n",
    "print(\"✅ 玩家資料已儲存為 JSON：Players_mining/players_data.json\")\n"
   ]
  },
  {
   "cell_type": "code",
   "execution_count": 16,
   "id": "8e5021a1-f634-4161-a443-0387fada1746",
   "metadata": {},
   "outputs": [
    {
     "name": "stdout",
     "output_type": "stream",
     "text": [
      "✅ 玩家摘要已儲存為 CSV：Players_mining/players_summary.csv\n"
     ]
    }
   ],
   "source": [
    "import pandas as pd\n",
    "\n",
    "summary = []\n",
    "for player, data in player_data.items():\n",
    "    game_count = len(data[\"games\"])\n",
    "    avg_elo = sum(data[\"elos\"]) / len(data[\"elos\"]) if data[\"elos\"] else 0\n",
    "    wins = sum(1 for g in data[\"games\"].values() if g[\"result\"] == \"win\")\n",
    "    losses = sum(1 for g in data[\"games\"].values() if g[\"result\"] == \"loss\")\n",
    "    draws = sum(1 for g in data[\"games\"].values() if g[\"result\"] == \"draw\")\n",
    "    \n",
    "    summary.append({\n",
    "        \"Player\": player,\n",
    "        \"Games\": game_count,\n",
    "        \"AvgElo\": round(avg_elo, 1),\n",
    "        \"Wins\": wins,\n",
    "        \"Losses\": losses,\n",
    "        \"Draws\": draws\n",
    "    })\n",
    "\n",
    "# 轉為 DataFrame 並儲存為 CSV\n",
    "summary_df = pd.DataFrame(summary).sort_values(by=\"Games\", ascending=False)\n",
    "summary_df.to_csv(os.path.join(output_folder, \"players_summary.csv\"), index=False)\n",
    "\n",
    "print(\"✅ 玩家摘要已儲存為 CSV：Players_mining/players_summary.csv\")\n"
   ]
  },
  {
   "cell_type": "code",
   "execution_count": 18,
   "id": "ffe6627a-3946-44c3-9003-4f43602310f3",
   "metadata": {},
   "outputs": [
    {
     "data": {
      "image/png": "[encoded data removed]",
      "text/plain": [
       "<Figure size 1000x600 with 1 Axes>"
      ]
     },
     "metadata": {},
     "output_type": "display_data"
    },
    {
     "data": {
      "text/plain": [
       "3.0"
      ]
     },
     "execution_count": 18,
     "metadata": {},
     "output_type": "execute_result"
    }
   ],
   "source": [
    "import json\n",
    "import pandas as pd\n",
    "import matplotlib.pyplot as plt\n",
    "import seaborn as sns\n",
    "import os\n",
    "\n",
    "# 讀取玩家資料\n",
    "with open(\"Players_mining/players_data.json\", \"r\", encoding=\"utf-8\") as f:\n",
    "    player_data = json.load(f)\n",
    "\n",
    "# 統計每位玩家的對局數\n",
    "player_game_counts = [len(info[\"games\"]) for info in player_data.values()]\n",
    "\n",
    "# 計算中位數\n",
    "median_games = pd.Series(player_game_counts).median()\n",
    "\n",
    "# 畫出分佈圖\n",
    "plt.figure(figsize=(10, 6))\n",
    "sns.histplot(player_game_counts, bins=30, kde=True, color=\"skyblue\")\n",
    "plt.axvline(median_games, color='red', linestyle='--', label=f'Median = {median_games:.0f}')\n",
    "plt.title(\"Distribution of Number of Games per Player\")\n",
    "plt.xlabel(\"Number of Games\")\n",
    "plt.ylabel(\"Number of Players\")\n",
    "plt.legend()\n",
    "plt.tight_layout()\n",
    "plt.show()\n",
    "\n",
    "median_games\n"
   ]
  },
  {
   "cell_type": "code",
   "execution_count": 26,
   "id": "9cff8274-c184-4c26-9a14-fb085c558a2a",
   "metadata": {},
   "outputs": [
    {
     "data": {
      "text/plain": [
       "(4664, 93935, 0.04965135466013733)"
      ]
     },
     "execution_count": 26,
     "metadata": {},
     "output_type": "execute_result"
    }
   ],
   "source": [
    "import json\n",
    "\n",
    "# 重新載入玩家資料\n",
    "with open(\"Players_mining/players_data.json\", \"r\", encoding=\"utf-8\") as f:\n",
    "    player_data = json.load(f)\n",
    "\n",
    "# 計算對局數\n",
    "game_counts = [len(info[\"games\"]) for info in player_data.values()]\n",
    "\n",
    "# 統計大於 50 局的玩家數\n",
    "players_over_20 = sum(1 for count in game_counts if count > 20)\n",
    "\n",
    "# 總玩家數\n",
    "total_players = len(game_counts)\n",
    "\n",
    "# 計算比例\n",
    "ratio_over_20 = players_over_20 / total_players\n",
    "\n",
    "players_over_20, total_players, ratio_over_20\n"
   ]
  },
  {
   "cell_type": "code",
   "execution_count": 32,
   "id": "c27acaa0-0b15-4dfe-a86e-bc7554fcf455",
   "metadata": {},
   "outputs": [
    {
     "name": "stdout",
     "output_type": "stream",
     "text": [
      "61342 93935 0.6530260286368234\n",
      "78206 93935 0.8325544259328259\n"
     ]
    }
   ],
   "source": [
    "import json\n",
    "\n",
    "# 重新載入玩家資料\n",
    "with open(\"Players_mining/players_data.json\", \"r\", encoding=\"utf-8\") as f:\n",
    "    player_data = json.load(f)\n",
    "\n",
    "# 計算對局數\n",
    "game_counts = [len(info[\"games\"]) for info in player_data.values()]\n",
    "\n",
    "# 統計小於 5 局的玩家數\n",
    "players_below_5 = sum(1 for count in game_counts if count <=5)\n",
    "# 統計小於 10 局的玩家數\n",
    "players_below_10 = sum(1 for count in game_counts if count <=10)\n",
    "\n",
    "# 總玩家數\n",
    "total_players = len(game_counts)\n",
    "\n",
    "# 計算比例\n",
    "ratio_below_5 = players_below_5 / total_players\n",
    "\n",
    "print(players_below_5, total_players, ratio_below_5)\n",
    "\n",
    "ratio_below_10 = players_below_10 / total_players\n",
    "\n",
    "print(players_below_10, total_players, ratio_below_10)\n"
   ]
  },
  {
   "cell_type": "code",
   "execution_count": null,
   "id": "d897b581-0a76-48e8-8638-54728395bd7a",
   "metadata": {},
   "outputs": [],
   "source": []
  }
 ],
 "metadata": {
  "kernelspec": {
   "display_name": "Python 3 (ipykernel)",
   "language": "python",
   "name": "python3"
  },
  "language_info": {
   "codemirror_mode": {
    "name": "ipython",
    "version": 3
   },
   "file_extension": ".py",
   "mimetype": "text/x-python",
   "name": "python",
   "nbconvert_exporter": "python",
   "pygments_lexer": "ipython3",
   "version": "3.12.7"
  }
 },
 "nbformat": 4,
 "nbformat_minor": 5
}
