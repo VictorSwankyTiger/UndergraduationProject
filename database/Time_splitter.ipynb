{
 "cells": [
  {
   "cell_type": "code",
   "execution_count": 15,
   "id": "f7a320c1-824e-47cc-a60a-912118330d59",
   "metadata": {},
   "outputs": [],
   "source": [
    "import pandas as pd\n",
    "import glob\n",
    "import os\n",
    "\n",
    "# 設定 CSV 檔案的資料夾路徑\n",
    "csv_folder = \"CSV/*.csv\"\n",
    "\n",
    "# 取得所有 CSV 檔案\n",
    "csv_files = glob.glob(csv_folder)\n",
    "\n",
    "# 設定要過濾的 TimeControl 類型\n",
    "target_time_controls = [\"600+0\", \"180+2\"]\n",
    "\n",
    "# 建立儲存的資料夾（若不存在就建立）\n",
    "for tc in target_time_controls:\n",
    "    os.makedirs(f\"Filter_CSV/{tc}\", exist_ok=True)\n",
    "\n",
    "# 處理每個 CSV 檔案\n",
    "for file in csv_files:\n",
    "    df = pd.read_csv(file)\n",
    "\n",
    "    if \"TimeControl\" in df.columns:\n",
    "        for tc in target_time_controls:\n",
    "            filtered_df = df[df[\"TimeControl\"].astype(str).str.strip() == tc]\n",
    "            if not filtered_df.empty:\n",
    "                # 取得原始檔名\n",
    "                filename = os.path.basename(file)\n",
    "                # 儲存成新 CSV 檔案\n",
    "                filtered_df.to_csv(f\"Filter_CSV/{tc}/{filename}\", index=False)"
   ]
  },
  {
   "cell_type": "code",
   "execution_count": null,
   "id": "49ffdd40-7d4d-40c0-9496-75731bb4ee63",
   "metadata": {},
   "outputs": [],
   "source": []
  }
 ],
 "metadata": {
  "kernelspec": {
   "display_name": "Python 3 (ipykernel)",
   "language": "python",
   "name": "python3"
  },
  "language_info": {
   "codemirror_mode": {
    "name": "ipython",
    "version": 3
   },
   "file_extension": ".py",
   "mimetype": "text/x-python",
   "name": "python",
   "nbconvert_exporter": "python",
   "pygments_lexer": "ipython3",
   "version": "3.12.7"
  }
 },
 "nbformat": 4,
 "nbformat_minor": 5
}
